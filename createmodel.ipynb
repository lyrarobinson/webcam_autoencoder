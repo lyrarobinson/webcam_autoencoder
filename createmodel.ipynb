{
 "cells": [
  {
   "cell_type": "code",
   "execution_count": null,
   "metadata": {},
   "outputs": [],
   "source": [
    "import tensorflow as tf\n",
    "from tensorflow.keras.layers import Input, Dense, Reshape, Conv2DTranspose, Conv2D, Flatten\n",
    "from tensorflow.keras.models import Model\n",
    "from tensorflow.keras.optimizers import Adam\n",
    "import numpy as np\n",
    "from tensorflow.keras.preprocessing.image import img_to_array, load_img\n",
    "import os"
   ]
  },
  {
   "cell_type": "code",
   "execution_count": null,
   "metadata": {},
   "outputs": [],
   "source": [
    "grids = np.load('grids.npy')\n",
    "\n",
    "def load_images(directory, target_size=(224, 224)):\n",
    "    images = []\n",
    "    filenames = os.listdir(directory)\n",
    "    for filename in filenames:\n",
    "        if filename.lower().endswith(('.png', '.jpg', '.jpeg')):\n",
    "            img_path = os.path.join(directory, filename)\n",
    "            img = load_img(img_path, target_size=target_size, color_mode='grayscale')  # Use 'rgb' for color images\n",
    "            img_array = img_to_array(img)\n",
    "            img_array = img_array / 255.0  # Normalize to [0, 1]\n",
    "            images.append(img_array)\n",
    "    return np.array(images)\n",
    "\n",
    "images = load_images('./dataset')  \n",
    "\n",
    "assert grids.shape[0] == images.shape[0], \"The number of grids must match the number of images\""
   ]
  },
  {
   "cell_type": "code",
   "execution_count": null,
   "metadata": {},
   "outputs": [],
   "source": [
    "input_grid = Input(shape=(49,))  # 7*7 grids flattened\n",
    "x = Dense(128, activation='relu')(input_grid)\n",
    "x = Dense(256, activation='relu')(x)\n",
    "x = Dense(128 * 14 * 14, activation='relu')(x) \n",
    "x = Reshape((14, 14, 128))(x)\n",
    "x = Conv2DTranspose(64, (3, 3), strides=(2, 2), padding='same', activation='relu')(x)  # Upscales to 28x28\n",
    "x = Conv2DTranspose(32, (3, 3), strides=(2, 2), padding='same', activation='relu')(x)  # Upscales to 56x56\n",
    "x = Conv2DTranspose(16, (3, 3), strides=(2, 2), padding='same', activation='relu')(x)  # Upscales to 112x112\n",
    "decoded = Conv2DTranspose(1, (3, 3), strides=(2, 2), padding='same', activation='sigmoid')(x)  # Upscales to 224x224\n",
    "\n",
    "autoencoder = Model(input_grid, decoded)\n",
    "autoencoder.compile(optimizer=Adam(learning_rate=0.001), loss='mse')\n",
    "\n",
    "autoencoder.summary()"
   ]
  },
  {
   "cell_type": "code",
   "execution_count": null,
   "metadata": {},
   "outputs": [],
   "source": [
    "autoencoder.fit(grids, images, epochs=200, batch_size=16, validation_split=0.2)"
   ]
  },
  {
   "cell_type": "code",
   "execution_count": null,
   "metadata": {},
   "outputs": [],
   "source": [
    "autoencoder.save('autoencoder.h5')\n",
    "\n",
    "import matplotlib.pyplot as plt\n",
    "\n",
    "def display_images(orig, decoded):\n",
    "    n = 10  # How many digits we will display\n",
    "    plt.figure(figsize=(20, 4))\n",
    "    for i in range(n):\n",
    "        # Display original\n",
    "        ax = plt.subplot(2, n, i + 1)\n",
    "        plt.imshow(orig[i].reshape(224, 224))\n",
    "        plt.gray()\n",
    "        ax.get_xaxis().set_visible(False)\n",
    "        ax.get_yaxis().set_visible(False)\n",
    "\n",
    "        # Display reconstruction\n",
    "        ax = plt.subplot(2, n, i + 1 + n)\n",
    "        plt.imshow(decoded[i].reshape(224, 224))\n",
    "        plt.gray()\n",
    "        ax.get_xaxis().set_visible(False)\n",
    "        ax.get_yaxis().set_visible(False)\n",
    "    plt.show()\n",
    "\n",
    "decoded_imgs = autoencoder.predict(grids[:10])\n",
    "display_images(images[:10], decoded_imgs)"
   ]
  }
 ],
 "metadata": {
  "kernelspec": {
   "display_name": "Python 3",
   "language": "python",
   "name": "python3"
  },
  "language_info": {
   "codemirror_mode": {
    "name": "ipython",
    "version": 3
   },
   "file_extension": ".py",
   "mimetype": "text/x-python",
   "name": "python",
   "nbconvert_exporter": "python",
   "pygments_lexer": "ipython3",
   "version": "3.12.4"
  }
 },
 "nbformat": 4,
 "nbformat_minor": 2
}
